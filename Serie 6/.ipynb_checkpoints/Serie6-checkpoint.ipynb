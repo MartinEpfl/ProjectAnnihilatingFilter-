{
 "cells": [
  {
   "cell_type": "code",
   "execution_count": 10,
   "metadata": {},
   "outputs": [],
   "source": [
    "import numpy as np\n",
    "from random import seed\n",
    "import pandas as pd\n",
    "from random import random\n",
    "import matplotlib.pyplot as plt"
   ]
  },
  {
   "cell_type": "code",
   "execution_count": 11,
   "metadata": {},
   "outputs": [],
   "source": [
    "P = np.array([[0.8, 0.2, 0.1],\n",
    "              [0.1, 0.6, 0.2],\n",
    "              [0.1, 0.2, 0.7]])\n"
   ]
  },
  {
   "cell_type": "code",
   "execution_count": 27,
   "metadata": {},
   "outputs": [
    {
     "name": "stdout",
     "output_type": "stream",
     "text": [
      "[0. 0. 0.]\n",
      "[0.1 0.2 0.7]\n",
      "[0.8 0.2 0.1]\n",
      "[0.8 0.2 0.1]\n",
      "[0.8 0.2 0.1]\n",
      "[0.8 0.2 0.1]\n",
      "[0.8 0.2 0.1]\n",
      "[0.8 0.2 0.1]\n",
      "[0.8 0.2 0.1]\n",
      "[0.8 0.2 0.1]\n",
      "[0.8 0.2 0.1]\n",
      "[0.8 0.2 0.1]\n",
      "[0.8 0.2 0.1]\n",
      "[0.8 0.2 0.1]\n",
      "[0.8 0.2 0.1]\n",
      "[0.8 0.2 0.1]\n",
      "[0.1 0.6 0.2]\n",
      "[0.1 0.6 0.2]\n",
      "[0.1 0.6 0.2]\n",
      "[0.1 0.2 0.7]\n",
      "[0.1 0.2 0.7]\n",
      "[0.1 0.2 0.7]\n",
      "[0.8 0.2 0.1]\n",
      "[0.8 0.2 0.1]\n",
      "[0.1 0.6 0.2]\n",
      "[0.1 0.6 0.2]\n",
      "[0.1 0.6 0.2]\n",
      "[0.8 0.2 0.1]\n",
      "[0.8 0.2 0.1]\n",
      "[0.8 0.2 0.1]\n",
      "[0.8 0.2 0.1]\n",
      "[0.8 0.2 0.1]\n",
      "[0.1 0.6 0.2]\n",
      "[0.8 0.2 0.1]\n",
      "[0.8 0.2 0.1]\n",
      "[0.8 0.2 0.1]\n",
      "[0.8 0.2 0.1]\n",
      "[0.1 0.6 0.2]\n",
      "[0.1 0.2 0.7]\n",
      "[0.1 0.6 0.2]\n",
      "[0.1 0.6 0.2]\n",
      "[0.1 0.6 0.2]\n",
      "[0.1 0.2 0.7]\n",
      "[0.1 0.2 0.7]\n",
      "[0.1 0.6 0.2]\n",
      "[0.1 0.6 0.2]\n",
      "[0.1 0.6 0.2]\n",
      "[0.1 0.2 0.7]\n",
      "[0.1 0.6 0.2]\n",
      "[0.1 0.2 0.7]\n"
     ]
    }
   ],
   "source": [
    "state=np.array([[1.0, 0.0, 0.0]])\n",
    "states = np.zeros((50,3))\n",
    "states[0] = state\n",
    "\n",
    "for x in range(50):\n",
    "  print(states[x-1]@P)\n",
    "  states[x]= np.random.multinomial(1, states[x-1]@P)\n",
    "  print(states[x])\n",
    "  \n",
    "  \n",
    "\n"
   ]
  },
  {
   "cell_type": "code",
   "execution_count": null,
   "metadata": {},
   "outputs": [],
   "source": []
  },
  {
   "cell_type": "code",
   "execution_count": null,
   "metadata": {},
   "outputs": [],
   "source": []
  },
  {
   "cell_type": "code",
   "execution_count": null,
   "metadata": {},
   "outputs": [],
   "source": []
  }
 ],
 "metadata": {
  "anaconda-cloud": {},
  "kernelspec": {
   "display_name": "Python 3",
   "language": "python",
   "name": "python3"
  },
  "language_info": {
   "codemirror_mode": {
    "name": "ipython",
    "version": 3
   },
   "file_extension": ".py",
   "mimetype": "text/x-python",
   "name": "python",
   "nbconvert_exporter": "python",
   "pygments_lexer": "ipython3",
   "version": "3.8.3"
  }
 },
 "nbformat": 4,
 "nbformat_minor": 1
}
