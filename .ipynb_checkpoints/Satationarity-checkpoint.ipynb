{
 "cells": [
  {
   "cell_type": "code",
   "execution_count": null,
   "metadata": {},
   "outputs": [],
   "source": [
    "import numpy as np\n",
    "from scipy import stats\n",
    "import matplotlib.pyplot as plt"
   ]
  },
  {
   "cell_type": "markdown",
   "metadata": {},
   "source": [
    "# An example of Wide Sense Stationary process that is not strictly stationary\n",
    "\n",
    "### Create `num_realisations` realisations of the process you believe will be WSS but not strictly stationary\n",
    "\n",
    "*Hint 1*: you can sample form the distribution you know is skewed (with differend skew at each time) and then normalise the distribution to have constant mean and variance. \n",
    "*Hint 2*: if you don't have any idea for a distribuition, check `scipy.stats.skewnorm`"
   ]
  },
  {
   "cell_type": "code",
   "execution_count": null,
   "metadata": {},
   "outputs": [],
   "source": [
    "num_realisations = 10000\n",
    "ks = list(range(10)) # time indexes"
   ]
  },
  {
   "cell_type": "markdown",
   "metadata": {},
   "source": [
    "### Histograms at each timestamp\n",
    "Observe the empirical distribution of your proces over time"
   ]
  },
  {
   "cell_type": "code",
   "execution_count": null,
   "metadata": {},
   "outputs": [],
   "source": [
    "for k in ks:\n",
    "    plt.figure()\n",
    "    plt.hist(steps[k, :], 50)\n",
    "    plt.title(\"k: {k}, mean: {mean:.2f}, std: {std:.2f}\".format(k=k, mean=np.mean(steps[k, :]), std=np.std(steps[k,:])))\n",
    "    plt.show()"
   ]
  },
  {
   "cell_type": "markdown",
   "metadata": {},
   "source": [
    "### Empirical distributions using boxplot\n",
    "Another way to look at the distributions is boxplot (right). It's sometimes more \n",
    "convenient than histogram. \n",
    "The orange horizontal lines in the middle are the medians, the boxes depicts the \n",
    "\"middle\" 50% of the distributions, the vertical lines cover most of the \n",
    "distribution and the dots depict \"unlikely\" points, outliers."
   ]
  },
  {
   "cell_type": "code",
   "execution_count": null,
   "metadata": {},
   "outputs": [],
   "source": [
    "plt.boxplot(steps.T, labels=ks)\n",
    "plt.title(\"Empirical distribution at each k\")\n",
    "plt.show()"
   ]
  },
  {
   "cell_type": "markdown",
   "metadata": {},
   "source": [
    "### The realizations\n",
    "If you look at just a few (for example 10) realizations of this process it's \n",
    "hard to judge if it a stationary (gaussian) noise, or if it is some more \n",
    "complicated distriburion. If you look at 500 realisations you can see some \n",
    "pattern emerge that changes over time."
   ]
  },
  {
   "cell_type": "code",
   "execution_count": null,
   "metadata": {},
   "outputs": [],
   "source": [
    "plt.plot(ks, steps[:,0:10], color='C0', alpha=0.7)\n",
    "plt.title(\"10 realizations of the process\")\n",
    "plt.show()\n",
    "plt.plot(ks, steps[:,0:500], color='C0', alpha=0.1)\n",
    "plt.title(\"500 realizations of the process\")\n",
    "plt.show()"
   ]
  }
 ],
 "metadata": {
  "kernelspec": {
   "display_name": "Python 3",
   "language": "python",
   "name": "python3"
  },
  "language_info": {
   "codemirror_mode": {
    "name": "ipython",
    "version": 3
   },
   "file_extension": ".py",
   "mimetype": "text/x-python",
   "name": "python",
   "nbconvert_exporter": "python",
   "pygments_lexer": "ipython3",
   "version": "3.8.3"
  }
 },
 "nbformat": 4,
 "nbformat_minor": 1
}
